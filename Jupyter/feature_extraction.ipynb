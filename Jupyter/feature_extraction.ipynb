{
 "cells": [
  {
   "cell_type": "code",
   "execution_count": 2,
   "id": "b293551e-3816-4bd1-beea-dcc61caec20a",
   "metadata": {},
   "outputs": [],
   "source": [
    "import pandas as pd\n",
    "import numpy as np\n",
    "import matplotlib.pyplot as plt\n",
    "import os\n",
    "from scipy import signal\n",
    "from scipy.fft import fft, fftfreq"
   ]
  },
  {
   "cell_type": "code",
   "execution_count": null,
   "id": "e1bcac55-ff58-436f-9289-c6b72c966829",
   "metadata": {},
   "outputs": [],
   "source": [
    "def get_fft_power_spectrum(y_values):\n",
    "    # 获取信号的频谱，频率范围和功率谱\n",
    "    # @return\n",
    "    # freq：频率范围\n",
    "    # fft_values: 标准化频谱\n",
    "    # ps_values:标准化功率谱\n",
    "    N = y_values.size\n",
    "    fft_values_ = np.abs(fft(y_values))  # 取模\n",
    "    fft_values = 2.0/N * (fft_values_[0:N/2])  # 标准化\n",
    "    fft_values[0] = 0  # 去直流分量\n",
    "    freq = fftfreq(N, 1/50)[:N/2]  # 50是50hz的采样频率\n",
    "    # 频率真实幅值分布，单边频谱图，再把所有点频率大小表示出来*2\n",
    "    # power spectrum 直接周期法\n",
    "    ps_values = fft_values**2 / N\n",
    "\n",
    "    return freq, fft_values, ps_values"
   ]
  },
  {
   "cell_type": "code",
   "execution_count": null,
   "id": "ef011ecc-c3bc-4ed6-ae35-087f50ec1f69",
   "metadata": {},
   "outputs": [],
   "source": [
    "def get_skewness(fft_values)\n",
    "# 获取偏度\n",
    "\n",
    "\n",
    "return pd.Series(fft_values).skew()"
   ]
  },
  {
   "cell_type": "code",
   "execution_count": null,
   "id": "d04a827d-6703-4555-a83a-1a22cf766a00",
   "metadata": {},
   "outputs": [],
   "source": [
    "def get_kurtosis(fft_values)\n",
    "# 获取峰度\n",
    "\n",
    "\n",
    "return pd.Series(fft_values).kurt()"
   ]
  },
  {
   "cell_type": "code",
   "execution_count": null,
   "id": "940e23e3-39a0-4ef6-9c95-efb5b72d5d71",
   "metadata": {},
   "outputs": [],
   "source": [
    "def get_mean_freq(fft_values, freq)\n",
    "# 获取加权平均频率\n",
    "\n",
    "\n",
    "return np.average(np.array(freq), np.array(fft_values))"
   ]
  },
  {
   "cell_type": "code",
   "execution_count": null,
   "id": "3f94473c-245c-4964-8de8-a10c3323e31d",
   "metadata": {},
   "outputs": [],
   "source": [
    "def get_energy(fft_values)\n",
    "# 获取能量\n",
    "\n",
    "\n",
    "return np.sum(np.array(fft_values))"
   ]
  }
 ],
 "metadata": {
  "kernelspec": {
   "display_name": "Python 3 (ipykernel)",
   "language": "python",
   "name": "python3"
  },
  "language_info": {
   "codemirror_mode": {
    "name": "ipython",
    "version": 3
   },
   "file_extension": ".py",
   "mimetype": "text/x-python",
   "name": "python",
   "nbconvert_exporter": "python",
   "pygments_lexer": "ipython3",
   "version": "3.9.12"
  }
 },
 "nbformat": 4,
 "nbformat_minor": 5
}
